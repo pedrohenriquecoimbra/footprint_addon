{
 "cells": [
  {
   "cell_type": "code",
   "execution_count": 1,
   "metadata": {},
   "outputs": [],
   "source": [
    "# 3-rd party modules\n",
    "import netCDF4\n",
    "import pandas as pd\n",
    "import numpy as np\n",
    "# local modules\n",
    "import scripts.footprint as fp\n",
    "\n",
    "class structuredData:\n",
    "    def __init__(self, **kwargs):\n",
    "        for k, v in kwargs.items(): self.__dict__[k]=v\n",
    "        pass\n"
   ]
  },
  {
   "cell_type": "code",
   "execution_count": 2,
   "metadata": {},
   "outputs": [
    {
     "name": "stderr",
     "output_type": "stream",
     "text": [
      "C:\\Users\\phherigcoimb\\AppData\\Local\\Temp\\ipykernel_19932\\1353533423.py:10: UserWarning: WARNING: valid_range not used since it\n",
      "cannot be safely cast to variable data type\n",
      "  sd.loop_variable = {c: sd.nc_dataset.variables[c][:].ravel() for c in sd.nc_dataset.variables.keys()}\n"
     ]
    }
   ],
   "source": [
    "ou = structuredData()\n",
    "ou.direct_path_tif = 'sample/output/paris_footprint_{}.tif'\n",
    "ou.direct_path_shp = 'sample/output/paris_footprint_{}.shp'\n",
    "\n",
    "ou.FP, ou.nc = fp.ffp_from_nc('sample/input/paris_footprint_240430.nc')\n",
    "ou.loc = fp.transform_crs(ou.nc.Tower_Location_Latitude,\n",
    "                        ou.nc.Tower_Location_Longitude,\n",
    "                        crs_in=ou.nc.crs_wkt\n",
    "                        )\n"
   ]
  },
  {
   "cell_type": "code",
   "execution_count": 5,
   "metadata": {},
   "outputs": [
    {
     "name": "stdout",
     "output_type": "stream",
     "text": [
      "2404302330                \r"
     ]
    }
   ],
   "source": [
    "for d, f in ou.FP.items():\n",
    "    print(d, ' '*15, end='\\r')\n",
    "    ou.FPi = fp.center_footprint(f, (ou.loc[1], ou.loc[0]))\n",
    "    \n",
    "    # Save tif\n",
    "    fp.footprint_to_tif(ou.FPi, 10, 10, ou.direct_path_tif.format(d))\n",
    "    # Save contours\n",
    "    ou.FPi = fp.get_contour(ou.FPi, 10, 10, np.linspace(0.10, 0.90, 9))\n",
    "    fp.footprint_to_shp(ou.FPi, ou.direct_path_shp.format(d))\n"
   ]
  }
 ],
 "metadata": {
  "kernelspec": {
   "display_name": "talltower",
   "language": "python",
   "name": "python3"
  },
  "language_info": {
   "codemirror_mode": {
    "name": "ipython",
    "version": 3
   },
   "file_extension": ".py",
   "mimetype": "text/x-python",
   "name": "python",
   "nbconvert_exporter": "python",
   "pygments_lexer": "ipython3",
   "version": "3.12.5"
  }
 },
 "nbformat": 4,
 "nbformat_minor": 2
}
